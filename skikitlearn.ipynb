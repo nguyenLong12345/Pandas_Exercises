{
  "nbformat": 4,
  "nbformat_minor": 0,
  "metadata": {
    "colab": {
      "provenance": []
    },
    "kernelspec": {
      "name": "python3",
      "display_name": "Python 3"
    },
    "language_info": {
      "name": "python"
    }
  },
  "cells": [
    {
      "cell_type": "code",
      "execution_count": null,
      "metadata": {
        "colab": {
          "base_uri": "https://localhost:8080/"
        },
        "id": "7QAti3FpIEEe",
        "outputId": "c29596a5-b760-4f2c-ed81-b85c71281e8e"
      },
      "outputs": [
        {
          "output_type": "stream",
          "name": "stdout",
          "text": [
            "Số lượng NaN sau khi xử lý: 0\n",
            "\n",
            "Confusion Matrix:\n",
            "[[ 3  3]\n",
            " [ 2 23]]\n",
            "\n",
            "Classification Report:\n",
            "              precision    recall  f1-score   support\n",
            "\n",
            "         die       0.60      0.50      0.55         6\n",
            "        live       0.88      0.92      0.90        25\n",
            "\n",
            "    accuracy                           0.84        31\n",
            "   macro avg       0.74      0.71      0.72        31\n",
            "weighted avg       0.83      0.84      0.83        31\n",
            "\n",
            "\n",
            "Accuracy: 0.8387096774193549\n"
          ]
        }
      ],
      "source": [
        "import pandas as pd\n",
        "import numpy as np\n",
        "from sklearn.model_selection import train_test_split\n",
        "from sklearn.impute import SimpleImputer\n",
        "from sklearn.preprocessing import StandardScaler, OneHotEncoder\n",
        "from sklearn.compose import ColumnTransformer\n",
        "from sklearn.pipeline import Pipeline\n",
        "from sklearn.linear_model import LogisticRegression\n",
        "from sklearn.metrics import classification_report, confusion_matrix, accuracy_score\n",
        "\n",
        "# Step 1: Load data\n",
        "url = \"https://raw.githubusercontent.com/thieu1995/csv-files/main/data/pandas/hepatitis.csv\"\n",
        "df = pd.read_csv(url)\n",
        "\n",
        "# Step 2: Impute missing values\n",
        "num_cols = df.select_dtypes(include=[np.number]).columns\n",
        "cat_cols = df.select_dtypes(exclude=[np.number]).columns.drop('class')  # bỏ cột target\n",
        "\n",
        "imputer_num = SimpleImputer(strategy='mean')\n",
        "imputer_cat = SimpleImputer(strategy='most_frequent')\n",
        "\n",
        "df[num_cols] = imputer_num.fit_transform(df[num_cols])\n",
        "df[cat_cols] = imputer_cat.fit_transform(df[cat_cols])\n",
        "\n",
        "print(\"Số lượng NaN sau khi xử lý:\", df.isnull().sum().sum())\n",
        "\n",
        "# Step 3: Chuẩn bị X, y\n",
        "X = df.drop(columns=['class'])\n",
        "y = df['class']\n",
        "\n",
        "# Train-test split\n",
        "X_train, X_test, y_train, y_test = train_test_split(\n",
        "    X, y, test_size=0.2, random_state=42, stratify=y\n",
        ")\n",
        "\n",
        "# Step 4: Build pipeline\n",
        "# - OneHotEncoder cho cột phân loại\n",
        "# - StandardScaler cho cột numeric\n",
        "preprocessor = ColumnTransformer(\n",
        "    transformers=[\n",
        "        (\"num\", StandardScaler(), num_cols),\n",
        "        (\"cat\", OneHotEncoder(drop='first'), cat_cols)\n",
        "    ]\n",
        ")\n",
        "\n",
        "pipeline = Pipeline(steps=[\n",
        "    (\"preprocessor\", preprocessor),\n",
        "    (\"classifier\", LogisticRegression(max_iter=1000))\n",
        "])\n",
        "\n",
        "# Step 5: Train model\n",
        "pipeline.fit(X_train, y_train)\n",
        "\n",
        "# Step 6: Predict & Evaluate\n",
        "y_pred = pipeline.predict(X_test)\n",
        "\n",
        "print(\"\\nConfusion Matrix:\")\n",
        "print(confusion_matrix(y_test, y_pred))\n",
        "\n",
        "print(\"\\nClassification Report:\")\n",
        "print(classification_report(y_test, y_pred))\n",
        "\n",
        "print(\"\\nAccuracy:\", accuracy_score(y_test, y_pred))\n",
        "\n"
      ]
    }
  ]
}