{
  "cells": [
    {
      "cell_type": "markdown",
      "metadata": {
        "pycharm": {
          "name": "#%% md\n"
        },
        "id": "NHgUqfioZM7A"
      },
      "source": [
        "# Pokemon"
      ]
    },
    {
      "cell_type": "markdown",
      "metadata": {
        "pycharm": {
          "name": "#%% md\n"
        },
        "id": "LLFyoUohZM7B"
      },
      "source": [
        "### Introduction:\n",
        "\n",
        "This time you will create the data.\n",
        "\n",
        "\n",
        "\n",
        "### Step 1. Import the necessary libraries"
      ]
    },
    {
      "cell_type": "code",
      "execution_count": 2,
      "metadata": {
        "pycharm": {
          "name": "#%%\n"
        },
        "id": "LbpAxn63ZM7B"
      },
      "outputs": [],
      "source": [
        "import pandas as pd"
      ]
    },
    {
      "cell_type": "markdown",
      "metadata": {
        "pycharm": {
          "name": "#%% md\n"
        },
        "id": "_mzfTpDkZM7B"
      },
      "source": [
        "### Step 2. Create a data dictionary that looks like the DataFrame below"
      ]
    },
    {
      "cell_type": "code",
      "execution_count": 1,
      "metadata": {
        "collapsed": true,
        "pycharm": {
          "name": "#%%\n"
        },
        "id": "3_1Ed8NhZM7B"
      },
      "outputs": [],
      "source": [
        "data = {\n",
        "    'name': ['Bulbasaur', 'Charmander', 'Squirtle', 'Caterpie'],\n",
        "    'type': ['grass', 'fire', 'water', 'bug'],\n",
        "    'hp': [45, 39, 44, 45],\n",
        "    'evolution': ['Ivysaur', 'Charmeleon', 'Wartortle', 'Metapod'],\n",
        "    'pokedex': ['yes', 'no', 'yes', 'no']\n",
        "}\n"
      ]
    },
    {
      "cell_type": "markdown",
      "metadata": {
        "pycharm": {
          "name": "#%% md\n"
        },
        "id": "W3j6yOA9ZM7B"
      },
      "source": [
        "### Step 3. Assign it to a variable called pokemon"
      ]
    },
    {
      "cell_type": "code",
      "execution_count": 3,
      "metadata": {
        "pycharm": {
          "name": "#%%\n"
        },
        "id": "TK6LN4PHZM7B"
      },
      "outputs": [],
      "source": [
        "pokemon = pd.DataFrame(data)"
      ]
    },
    {
      "cell_type": "markdown",
      "metadata": {
        "pycharm": {
          "name": "#%% md\n"
        },
        "id": "uuXv5ghGZM7C"
      },
      "source": [
        "### Step 4. Ops...it seems the DataFrame columns are in alphabetical order. Place  the order of the columns as name, type, hp, evolution, pokedex"
      ]
    },
    {
      "cell_type": "code",
      "execution_count": 4,
      "metadata": {
        "pycharm": {
          "name": "#%%\n"
        },
        "id": "hkwWFbxIZM7C"
      },
      "outputs": [],
      "source": [
        "pokemon = pokemon[['name', 'type', 'hp', 'evolution', 'pokedex']]"
      ]
    },
    {
      "cell_type": "markdown",
      "metadata": {
        "pycharm": {
          "name": "#%% md\n"
        },
        "id": "mszzWxYzZM7C"
      },
      "source": [
        "### Step 5. Add another column called place, and insert what you have in mind."
      ]
    },
    {
      "cell_type": "code",
      "execution_count": 6,
      "metadata": {
        "pycharm": {
          "name": "#%%\n"
        },
        "id": "rh1RajAXZM7C"
      },
      "outputs": [],
      "source": [
        "pokemon['place'] = ['Forest', 'Mountain', 'Lake', 'Forest']"
      ]
    },
    {
      "cell_type": "markdown",
      "metadata": {
        "pycharm": {
          "name": "#%% md\n"
        },
        "id": "Xt93b2v6ZM7C"
      },
      "source": [
        "### Step 6. Present the type of each column"
      ]
    },
    {
      "cell_type": "code",
      "execution_count": 8,
      "metadata": {
        "pycharm": {
          "name": "#%%\n"
        },
        "id": "ZG27KCPdZM7C",
        "colab": {
          "base_uri": "https://localhost:8080/",
          "height": 0
        },
        "outputId": "e7d86395-ba1f-4f46-9b92-1a33343ace36"
      },
      "outputs": [
        {
          "output_type": "stream",
          "name": "stdout",
          "text": [
            "name         object\n",
            "type         object\n",
            "hp            int64\n",
            "evolution    object\n",
            "pokedex      object\n",
            "place        object\n",
            "dtype: object\n"
          ]
        }
      ],
      "source": [
        "print(pokemon.dtypes)"
      ]
    },
    {
      "cell_type": "markdown",
      "metadata": {
        "pycharm": {
          "name": "#%% md\n"
        },
        "id": "yue_LQpvZM7C"
      },
      "source": [
        "### BONUS: Create your own question and answer it."
      ]
    },
    {
      "cell_type": "code",
      "execution_count": 10,
      "metadata": {
        "collapsed": true,
        "pycharm": {
          "name": "#%%\n"
        },
        "id": "l5Ns_L4OZM7C",
        "colab": {
          "base_uri": "https://localhost:8080/",
          "height": 0
        },
        "outputId": "5dd1ea7a-1754-42ca-dd75-73ae062eb20c"
      },
      "outputs": [
        {
          "output_type": "stream",
          "name": "stdout",
          "text": [
            "        name   type  hp evolution pokedex   place\n",
            "0  Bulbasaur  grass  45   Ivysaur     yes  Forest\n",
            "3   Caterpie    bug  45   Metapod      no  Forest\n"
          ]
        }
      ],
      "source": [
        "# pokemon có hp cao nhất\n",
        "highest_hp = pokemon[pokemon['hp'] == pokemon['hp'].max()]\n",
        "print(highest_hp)"
      ]
    }
  ],
  "metadata": {
    "kernelspec": {
      "display_name": "Python 2",
      "language": "python",
      "name": "python2"
    },
    "language_info": {
      "codemirror_mode": {
        "name": "ipython",
        "version": 2
      },
      "file_extension": ".py",
      "mimetype": "text/x-python",
      "name": "python",
      "nbconvert_exporter": "python",
      "pygments_lexer": "ipython2",
      "version": "2.7.11"
    },
    "colab": {
      "provenance": []
    }
  },
  "nbformat": 4,
  "nbformat_minor": 0
}